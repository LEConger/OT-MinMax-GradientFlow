{
 "cells": [
  {
   "cell_type": "markdown",
   "metadata": {},
   "source": [
    "# Particle Implementation from Liu 2021."
   ]
  },
  {
   "cell_type": "code",
   "execution_count": 27,
   "metadata": {},
   "outputs": [],
   "source": [
    "import numpy as np\n",
    "import matplotlib.pyplot as plt\n",
    "from tqdm import tqdm\n",
    "from scipy.special import xlogy"
   ]
  },
  {
   "cell_type": "code",
   "execution_count": 28,
   "metadata": {},
   "outputs": [],
   "source": [
    "N       = 1000 # number of particles for computing the marginal\n",
    "dmu     = 2 # dimension of the first target distribution, mu\n",
    "dnu     = 2 # dimension of the second target distribution, nu\n",
    "Nx_plot = 19 # spacing for plotting histograms\n"
   ]
  },
  {
   "cell_type": "code",
   "execution_count": 29,
   "metadata": {},
   "outputs": [],
   "source": [
    "def sample_mu(K, dmu, sig=0.4,mean_X=0.4):\n",
    "    '''sample from the distribution mu'''\n",
    "    out        = np.random.multivariate_normal(mean_X*np.ones(dmu), np.eye(dmu)*sig**2, K)\n",
    "    out[out<0] = np.random.uniform(0,1,np.sum(out<0))\n",
    "    out[out>1] = np.random.uniform(0,1,np.sum(out>1))\n",
    "\n",
    "    return out\n",
    "\n",
    "\n",
    "def sample_nu(K, dnu,sig=0.4,mean_Y=0.6):\n",
    "    '''sample from the distribution nu'''\n",
    "    out        = np.random.multivariate_normal(mean_Y*np.ones(dnu), np.eye(dnu)*sig**2, K)\n",
    "    out[out<0] = np.random.uniform(0,1,np.sum(out<0))\n",
    "    out[out>1] = np.random.uniform(0,1,np.sum(out>1))\n",
    "\n",
    "    return out\n",
    "\n",
    "\n",
    "def grad_V1(X,sig=0.4,mean_X=0.4):\n",
    "    '''compute the gradient of the potential V1'''\n",
    "    gradV1 = (X-mean_X)*np.exp(-np.sum((X-mean_X)**2,axis=-1)[:,np.newaxis]/(2*sig**2))/sig**2\n",
    "    return gradV1\n",
    "\n",
    "\n",
    "def grad_V2(Y,sig=0.4,mean_Y=0.6):\n",
    "    '''compute the gradient of the potential V2'''\n",
    "    gradV2 = (Y-mean_Y)*np.exp(-np.sum((Y-mean_Y)**2,axis=-1)[:,np.newaxis]/(2*sig**2))/sig**2\n",
    "    return gradV2\n",
    "\n",
    "\n",
    "def energy(X,Y,x_hist,y_hist,mu_hist,nu_hist,Lambda,dx,eps=1e-6):\n",
    "    '''compute the energy of the configuration X,Y'''\n",
    "    # where x_hist is zero, set to eps\n",
    "    x_hist[x_hist==0] = eps\n",
    "    y_hist[y_hist==0] = eps\n",
    "    coupling_cost = np.sum((X-Y)**2)/N\n",
    "    entropy_1     = dx**dmu*np.sum(xlogy(mu_hist,mu_hist/x_hist))\n",
    "    entropy_2     = dx**dnu*np.sum(xlogy(nu_hist,nu_hist/y_hist))\n",
    "    return coupling_cost + Lambda*(entropy_1 + entropy_2),entropy_1 + entropy_2,coupling_cost\n",
    "\n",
    "def project_onto_square(X):\n",
    "    '''project onto the square [0,1]^d'''\n",
    "    X[X<0] = 0\n",
    "    X[X>1] = 0.99\n",
    "    return X\n"
   ]
  },
  {
   "cell_type": "code",
   "execution_count": 31,
   "metadata": {},
   "outputs": [],
   "source": [
    "def kernel(x,xi,tau=1):\n",
    "    '''compute the kernel'''\n",
    "    return np.exp(-np.sum((x-xi)**2,axis=-1)/(2*tau**2)) \n",
    "\n",
    "\n",
    "def nabla_x_kernel(x,xi,tau=1):\n",
    "    '''compute the gradient of the kernel'''\n",
    "    return -(x-xi)*kernel(x,xi,tau)[:,:,np.newaxis]  /(tau**2)"
   ]
  },
  {
   "cell_type": "code",
   "execution_count": null,
   "metadata": {},
   "outputs": [],
   "source": [
    "def kernel_grad(X,Y,tau=1.):\n",
    "    '''compute the gradient of the KL divergence, using the kernel approximation\n",
    "    tau is the variance of the kernel'''\n",
    "\n",
    "    X1  = np.repeat(X[:,np.newaxis],N,axis=1)\n",
    "    X1T = np.transpose(X1,(1,0,2))\n",
    "    Y1  = np.repeat(Y[:,np.newaxis],N,axis=1)\n",
    "    Y1T = np.transpose(Y1,(1,0,2))\n",
    "    \n",
    "    kernel_outputX = kernel(X1,X1T,tau)   \n",
    "    grad_kernelX   = nabla_x_kernel(X1,X1T,tau)\n",
    "    kernel_outputY = kernel(Y1,Y1T,tau)\n",
    "    grad_kernelY   = nabla_x_kernel(Y1,Y1T,tau)\n",
    "\n",
    "    gradX =  np.sum(grad_kernelX,axis=1)/np.sum(kernel_outputX,axis=1)[:,np.newaxis]\n",
    "    gradY =  np.sum(grad_kernelY,axis=1)/np.sum(kernel_outputY,axis=1)[:,np.newaxis]\n",
    "\n",
    "\n",
    "    gradX += grad_V1(X)\n",
    "    gradY += grad_V2(Y)\n",
    "\n",
    "    return gradX,gradY\n",
    "    "
   ]
  },
  {
   "cell_type": "code",
   "execution_count": null,
   "metadata": {},
   "outputs": [
    {
     "name": "stderr",
     "output_type": "stream",
     "text": [
      "  0%|          | 1/500 [00:00<02:32,  3.28it/s]"
     ]
    },
    {
     "name": "stdout",
     "output_type": "stream",
     "text": [
      "max value of grad 0.00041755797490098366 0.0004337229250520147\n"
     ]
    },
    {
     "name": "stderr",
     "output_type": "stream",
     "text": [
      "  4%|▍         | 21/500 [00:06<02:09,  3.70it/s]"
     ]
    },
    {
     "name": "stdout",
     "output_type": "stream",
     "text": [
      "max value of grad 0.00039620835458701475 0.00041049799045185964\n"
     ]
    },
    {
     "name": "stderr",
     "output_type": "stream",
     "text": [
      "  8%|▊         | 41/500 [00:11<02:17,  3.35it/s]"
     ]
    },
    {
     "name": "stdout",
     "output_type": "stream",
     "text": [
      "max value of grad 0.00037911562631321615 0.00039155070120693806\n"
     ]
    },
    {
     "name": "stderr",
     "output_type": "stream",
     "text": [
      " 12%|█▏        | 61/500 [00:16<01:54,  3.82it/s]"
     ]
    },
    {
     "name": "stdout",
     "output_type": "stream",
     "text": [
      "max value of grad 0.000365627672601896 0.0003765472284329499\n"
     ]
    },
    {
     "name": "stderr",
     "output_type": "stream",
     "text": [
      " 16%|█▌        | 81/500 [00:21<01:45,  3.98it/s]"
     ]
    },
    {
     "name": "stdout",
     "output_type": "stream",
     "text": [
      "max value of grad 0.0003560148332747184 0.0003675570031757384\n"
     ]
    },
    {
     "name": "stderr",
     "output_type": "stream",
     "text": [
      " 20%|██        | 101/500 [00:26<01:37,  4.10it/s]"
     ]
    },
    {
     "name": "stdout",
     "output_type": "stream",
     "text": [
      "max value of grad 0.00034942093019733146 0.00036375461552826636\n"
     ]
    },
    {
     "name": "stderr",
     "output_type": "stream",
     "text": [
      " 24%|██▍       | 121/500 [00:31<01:37,  3.89it/s]"
     ]
    },
    {
     "name": "stdout",
     "output_type": "stream",
     "text": [
      "max value of grad 0.00034508764958269487 0.00036233878301197066\n"
     ]
    },
    {
     "name": "stderr",
     "output_type": "stream",
     "text": [
      " 28%|██▊       | 141/500 [00:37<01:35,  3.78it/s]"
     ]
    },
    {
     "name": "stdout",
     "output_type": "stream",
     "text": [
      "max value of grad 0.0003440879573550947 0.00036495759479609856\n"
     ]
    },
    {
     "name": "stderr",
     "output_type": "stream",
     "text": [
      " 32%|███▏      | 161/500 [00:42<01:32,  3.66it/s]"
     ]
    },
    {
     "name": "stdout",
     "output_type": "stream",
     "text": [
      "max value of grad 0.0003480373439828769 0.0003711046402249363\n"
     ]
    },
    {
     "name": "stderr",
     "output_type": "stream",
     "text": [
      " 36%|███▌      | 181/500 [00:47<01:23,  3.80it/s]"
     ]
    },
    {
     "name": "stdout",
     "output_type": "stream",
     "text": [
      "max value of grad 0.0003535107991646378 0.00038149041275694143\n"
     ]
    },
    {
     "name": "stderr",
     "output_type": "stream",
     "text": [
      " 40%|████      | 201/500 [00:52<01:17,  3.88it/s]"
     ]
    },
    {
     "name": "stdout",
     "output_type": "stream",
     "text": [
      "max value of grad 0.00036381790991555377 0.00039559732900924495\n"
     ]
    },
    {
     "name": "stderr",
     "output_type": "stream",
     "text": [
      " 44%|████▍     | 221/500 [00:57<01:10,  3.94it/s]"
     ]
    },
    {
     "name": "stdout",
     "output_type": "stream",
     "text": [
      "max value of grad 0.00037650090531281445 0.0004142874925025196\n"
     ]
    },
    {
     "name": "stderr",
     "output_type": "stream",
     "text": [
      " 48%|████▊     | 241/500 [01:03<01:09,  3.71it/s]"
     ]
    },
    {
     "name": "stdout",
     "output_type": "stream",
     "text": [
      "max value of grad 0.00039459148441633996 0.0004382137340087746\n"
     ]
    },
    {
     "name": "stderr",
     "output_type": "stream",
     "text": [
      " 52%|█████▏    | 261/500 [01:08<01:00,  3.96it/s]"
     ]
    },
    {
     "name": "stdout",
     "output_type": "stream",
     "text": [
      "max value of grad 0.00041877582425512984 0.00046770873131047485\n"
     ]
    },
    {
     "name": "stderr",
     "output_type": "stream",
     "text": [
      " 56%|█████▌    | 281/500 [01:13<00:54,  3.99it/s]"
     ]
    },
    {
     "name": "stdout",
     "output_type": "stream",
     "text": [
      "max value of grad 0.00044672167950841527 0.0005038720397206531\n"
     ]
    },
    {
     "name": "stderr",
     "output_type": "stream",
     "text": [
      " 60%|██████    | 301/500 [01:18<00:51,  3.83it/s]"
     ]
    },
    {
     "name": "stdout",
     "output_type": "stream",
     "text": [
      "max value of grad 0.00048117022469436544 0.0005474061305784061\n"
     ]
    },
    {
     "name": "stderr",
     "output_type": "stream",
     "text": [
      " 64%|██████▍   | 321/500 [01:24<00:49,  3.62it/s]"
     ]
    },
    {
     "name": "stdout",
     "output_type": "stream",
     "text": [
      "max value of grad 0.0005227705069767455 0.0006007680732714947\n"
     ]
    },
    {
     "name": "stderr",
     "output_type": "stream",
     "text": [
      " 68%|██████▊   | 341/500 [01:29<00:47,  3.38it/s]"
     ]
    },
    {
     "name": "stdout",
     "output_type": "stream",
     "text": [
      "max value of grad 0.0005756631982243563 0.0006637861817555338\n"
     ]
    },
    {
     "name": "stderr",
     "output_type": "stream",
     "text": [
      " 72%|███████▏  | 361/500 [01:35<00:41,  3.37it/s]"
     ]
    },
    {
     "name": "stdout",
     "output_type": "stream",
     "text": [
      "max value of grad 0.0006384960873912276 0.0007410524333625932\n"
     ]
    },
    {
     "name": "stderr",
     "output_type": "stream",
     "text": [
      " 76%|███████▌  | 381/500 [01:41<00:34,  3.48it/s]"
     ]
    },
    {
     "name": "stdout",
     "output_type": "stream",
     "text": [
      "max value of grad 0.0007123600395818203 0.0008324022144656947\n"
     ]
    },
    {
     "name": "stderr",
     "output_type": "stream",
     "text": [
      " 80%|████████  | 401/500 [01:47<00:28,  3.50it/s]"
     ]
    },
    {
     "name": "stdout",
     "output_type": "stream",
     "text": [
      "max value of grad 0.0008005890975328826 0.000945853777344675\n"
     ]
    },
    {
     "name": "stderr",
     "output_type": "stream",
     "text": [
      " 84%|████████▍ | 421/500 [01:52<00:21,  3.67it/s]"
     ]
    },
    {
     "name": "stdout",
     "output_type": "stream",
     "text": [
      "max value of grad 0.0009070905914552096 0.0010841813303786836\n"
     ]
    },
    {
     "name": "stderr",
     "output_type": "stream",
     "text": [
      " 88%|████████▊ | 441/500 [01:58<00:16,  3.59it/s]"
     ]
    },
    {
     "name": "stdout",
     "output_type": "stream",
     "text": [
      "max value of grad 0.0010342886911608264 0.0012279134669797476\n"
     ]
    },
    {
     "name": "stderr",
     "output_type": "stream",
     "text": [
      " 92%|█████████▏| 461/500 [02:04<00:11,  3.47it/s]"
     ]
    },
    {
     "name": "stdout",
     "output_type": "stream",
     "text": [
      "max value of grad 0.001190053435754809 0.0013677430956438707\n"
     ]
    },
    {
     "name": "stderr",
     "output_type": "stream",
     "text": [
      " 96%|█████████▌| 481/500 [02:09<00:05,  3.65it/s]"
     ]
    },
    {
     "name": "stdout",
     "output_type": "stream",
     "text": [
      "max value of grad 0.0013767018492943895 0.0015391864342299928\n"
     ]
    },
    {
     "name": "stderr",
     "output_type": "stream",
     "text": [
      "100%|██████████| 500/500 [02:14<00:00,  3.71it/s]\n"
     ]
    }
   ],
   "source": [
    "T = 500\n",
    "dt = 0.00001\n",
    "nbreak = 10\n",
    "Lambda = 100 # weight for the KL divergence, initial condition\n",
    "energy_history = np.zeros(T)\n",
    "use_densities = False\n",
    "tau = 0.005\n",
    "\n",
    "# initialize the particles as in 2021 Liu paper\n",
    "X = np.random.uniform(0.25, 0.65, (N,dmu))\n",
    "Y = np.random.uniform(0.45, 0.85, (N,dnu))\n",
    "X0 = X.copy()\n",
    "Y0 = Y.copy()\n",
    "\n",
    "\n",
    "for tt in tqdm(range(T)):\n",
    "   \n",
    "        # use kernel approximation\n",
    "        gradX,gradY = kernel_grad(X,Y,tau=0.4)\n",
    "        if tt % 20 == 0:\n",
    "                print(\"max value of grad\",np.max(Lambda*dt*gradX),np.max(Lambda*dt*gradY))\n",
    "\n",
    "        noiseX = np.random.normal(0,1,(N,dmu))*np.sqrt(dt)*0.02\n",
    "        noiseY = np.random.normal(0,1,(N,dnu))*np.sqrt(dt)*0.02\n",
    "\n",
    "        X -= dt*( (X-Y)+ Lambda*gradX ) + noiseX\n",
    "        Y -= dt*( (Y-X) + Lambda*gradY) + noiseY\n",
    "\n",
    "        X = project_onto_square(X)\n",
    "        Y = project_onto_square(Y)"
   ]
  },
  {
   "cell_type": "code",
   "execution_count": null,
   "metadata": {},
   "outputs": [
    {
     "data": {
      "image/png": "[encoded data removed]",
      "text/plain": [
       "<Figure size 1152x288 with 4 Axes>"
      ]
     },
     "metadata": {
      "needs_background": "light"
     },
     "output_type": "display_data"
    }
   ],
   "source": [
    "# plot transport map\n",
    "n_transport = 4\n",
    "s = np.linspace(0, 1, n_transport) # this is a transport interpolation\n",
    "\n",
    "plt.figure(figsize=(4*n_transport, 4))\n",
    "for i in range(n_transport):\n",
    "    plt.subplot(1, n_transport, i+1)\n",
    "    mixed_dist = s[i]*Y + (1-s[i])*X\n",
    "    plt.hist2d(mixed_dist[:, 0], mixed_dist[:, 1], bins=[np.linspace(0, 1, Nx_plot+1)]*dmu, density=True)\n",
    "    plt.title('s = %.2f' % s[i], fontsize=20)\n",
    "    plt.axis(\"off\")\n",
    "plt.tight_layout()\n",
    "plt.savefig('transport_map_kernel_method.png')\n",
    "plt.show()\n",
    "\n",
    "\n"
   ]
  },
  {
   "cell_type": "code",
   "execution_count": null,
   "metadata": {},
   "outputs": [
    {
     "name": "stderr",
     "output_type": "stream",
     "text": [
      "  0%|          | 1/200 [00:00<01:22,  2.41it/s]"
     ]
    },
    {
     "name": "stdout",
     "output_type": "stream",
     "text": [
      "max value of grad 0.0025327906689171357 0.0032101470531105923\n"
     ]
    },
    {
     "name": "stderr",
     "output_type": "stream",
     "text": [
      " 10%|█         | 21/200 [00:07<00:57,  3.13it/s]"
     ]
    },
    {
     "name": "stdout",
     "output_type": "stream",
     "text": [
      "max value of grad 0.0021348316467810044 0.00323851889800217\n"
     ]
    },
    {
     "name": "stderr",
     "output_type": "stream",
     "text": [
      " 20%|██        | 41/200 [00:13<00:55,  2.85it/s]"
     ]
    },
    {
     "name": "stdout",
     "output_type": "stream",
     "text": [
      "max value of grad 0.002072293894324043 0.0033930669872674307\n"
     ]
    },
    {
     "name": "stderr",
     "output_type": "stream",
     "text": [
      " 30%|███       | 61/200 [00:21<00:53,  2.62it/s]"
     ]
    },
    {
     "name": "stdout",
     "output_type": "stream",
     "text": [
      "max value of grad 0.002012559015893115 0.003418732476570865\n"
     ]
    },
    {
     "name": "stderr",
     "output_type": "stream",
     "text": [
      " 40%|████      | 81/200 [00:30<00:57,  2.07it/s]"
     ]
    },
    {
     "name": "stdout",
     "output_type": "stream",
     "text": [
      "max value of grad 0.0019712603943196198 0.003430509962998829\n"
     ]
    },
    {
     "name": "stderr",
     "output_type": "stream",
     "text": [
      " 50%|█████     | 101/200 [00:38<00:38,  2.60it/s]"
     ]
    },
    {
     "name": "stdout",
     "output_type": "stream",
     "text": [
      "max value of grad 0.00236172865227201 0.0034301284957077246\n"
     ]
    },
    {
     "name": "stderr",
     "output_type": "stream",
     "text": [
      " 60%|██████    | 121/200 [00:45<00:25,  3.14it/s]"
     ]
    },
    {
     "name": "stdout",
     "output_type": "stream",
     "text": [
      "max value of grad 0.0028328250598925594 0.003428262887520271\n"
     ]
    },
    {
     "name": "stderr",
     "output_type": "stream",
     "text": [
      " 70%|███████   | 141/200 [00:52<00:21,  2.71it/s]"
     ]
    },
    {
     "name": "stdout",
     "output_type": "stream",
     "text": [
      "max value of grad 0.002971619284327273 0.0034184416615433352\n"
     ]
    },
    {
     "name": "stderr",
     "output_type": "stream",
     "text": [
      " 80%|████████  | 161/200 [01:00<00:13,  2.80it/s]"
     ]
    },
    {
     "name": "stdout",
     "output_type": "stream",
     "text": [
      "max value of grad 0.0029242222561438602 0.003405569694750234\n"
     ]
    },
    {
     "name": "stderr",
     "output_type": "stream",
     "text": [
      " 90%|█████████ | 181/200 [01:07<00:07,  2.71it/s]"
     ]
    },
    {
     "name": "stdout",
     "output_type": "stream",
     "text": [
      "max value of grad 0.002921390262672732 0.003388105316657377\n"
     ]
    },
    {
     "name": "stderr",
     "output_type": "stream",
     "text": [
      "100%|██████████| 200/200 [01:13<00:00,  2.71it/s]\n"
     ]
    }
   ],
   "source": [
    "# raise ValueError\n",
    "T = 50\n",
    "dt = 0.00002\n",
    "nbreak = 10\n",
    "Lambda = 100 # weight for the KL divergence, initial condition\n",
    "energy_history = np.zeros(T)\n",
    "use_densities = False\n",
    "tau = 0.005\n",
    "halfN = int(N/2)\n",
    "\n",
    "sig = 0.4**2\n",
    "# initialize the particles using marginals\n",
    "X1 = np.random.normal(0.4, sig, (halfN,dmu))\n",
    "Y2 = np.random.normal(0.6, sig, (halfN,dnu))\n",
    "Y1 = X1 + np.random.normal(0,1,(halfN,dmu))*0.01\n",
    "X2 = Y2 + np.random.normal(0,1,(halfN,dnu))*0.01\n",
    "X = np.concatenate([X1,X2])\n",
    "Y = np.concatenate([Y1,Y2])\n",
    "X0 = X.copy()\n",
    "Y0 = Y.copy()\n",
    "\n",
    "\n",
    "for tt in tqdm(range(T)):\n",
    "   \n",
    "        # use kernel approximation, only compute for half of the particles\n",
    "        gradX,gradY = kernel_grad(X,Y,tau=0.45)\n",
    "        if tt % 20 == 0:\n",
    "                print(\"max value of grad\",np.max(Lambda*dt*gradX),np.max(Lambda*dt*gradY))\n",
    "\n",
    "        noiseX = np.random.normal(0,1,(N,dmu))*np.sqrt(dt)*0.05\n",
    "        noiseY = np.random.normal(0,1,(N,dnu))*np.sqrt(dt)*0.05\n",
    "\n",
    "        X[halfN:,:] -= dt*( (X-Y)+ Lambda*gradX )[halfN:,:]  + noiseX[halfN:,:]\n",
    "        Y[:halfN,:] -= dt*( (Y-X) + Lambda*gradY )[:halfN,:] + noiseY[:halfN,:]\n",
    "\n",
    "        X = project_onto_square(X)\n",
    "        Y = project_onto_square(Y)"
   ]
  },
  {
   "cell_type": "code",
   "execution_count": null,
   "metadata": {},
   "outputs": [
    {
     "data": {
      "image/png": "[encoded data removed]",
      "text/plain": [
       "<Figure size 1152x288 with 4 Axes>"
      ]
     },
     "metadata": {
      "needs_background": "light"
     },
     "output_type": "display_data"
    }
   ],
   "source": [
    "n_transport = 4\n",
    "s = np.linspace(0, 1, n_transport) # this is a transport interpolation\n",
    "\n",
    "plt.figure(figsize=(4*n_transport, 4))\n",
    "for i in range(n_transport):\n",
    "    plt.subplot(1, n_transport, i+1)\n",
    "    mixed_dist = s[i]*Y + (1-s[i])*X\n",
    "    plt.hist2d(mixed_dist[:, 0], mixed_dist[:, 1], bins=[np.linspace(0, 1, Nx_plot+1)]*dmu, density=True)\n",
    "    plt.title('s = %.2f' % s[i])\n",
    "    plt.axis(\"off\")\n",
    "plt.gcf().suptitle('Transport map approximation', fontsize=20)\n",
    "plt.show()"
   ]
  }
 ],
 "metadata": {
  "kernelspec": {
   "display_name": "base",
   "language": "python",
   "name": "python3"
  },
  "language_info": {
   "codemirror_mode": {
    "name": "ipython",
    "version": 3
   },
   "file_extension": ".py",
   "mimetype": "text/x-python",
   "name": "python",
   "nbconvert_exporter": "python",
   "pygments_lexer": "ipython3",
   "version": "3.9.7"
  }
 },
 "nbformat": 4,
 "nbformat_minor": 2
}
